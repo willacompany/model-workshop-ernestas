{
 "cells": [
  {
   "cell_type": "code",
   "execution_count": null,
   "id": "b85f7681-97cd-4f46-9d80-cb270122c22a",
   "metadata": {},
   "outputs": [],
   "source": [
    "%reload_kedro"
   ]
  },
  {
   "cell_type": "code",
   "execution_count": null,
   "id": "231037f9-6fa9-4281-858c-4dde949a7c1b",
   "metadata": {},
   "outputs": [],
   "source": [
    "natality = catalog.load(\"natality\")\n",
    "split_ratio = 0.2"
   ]
  },
  {
   "cell_type": "code",
   "execution_count": null,
   "id": "2d7c2faa-5067-4c44-aff0-d29ae6726ca2",
   "metadata": {
    "tags": [
     "node"
    ]
   },
   "outputs": [],
   "source": [
    "import pandas as pd\n",
    "from typing import Dict"
   ]
  },
  {
   "cell_type": "code",
   "execution_count": null,
   "outputs": [],
   "source": [
    "def preprocess(data: pd.DataFrame) -> pd.DataFrame:\n",
    "    \"\"\" Node for basic feature engineering and normalization \"\"\"\n",
    "    data = data.fillna(0)\n",
    "    data[\"mother_married\"] = data[\"mother_married\"].astype(int)\n",
    "    return data"
   ],
   "metadata": {
    "collapsed": false,
    "pycharm": {
     "name": "#%%\n"
    }
   }
  },
  {
   "cell_type": "code",
   "execution_count": null,
   "id": "26faf480-14b0-4b17-b611-cc6adc29481e",
   "metadata": {},
   "outputs": [],
   "source": [
    "data = preprocess(natality)"
   ]
  },
  {
   "cell_type": "code",
   "execution_count": null,
   "id": "5c2bbeed-1aa2-469a-a221-643baed973f6",
   "metadata": {
    "tags": [
     "node"
    ]
   },
   "outputs": [],
   "source": [
    "def train_test_split(data: pd.DataFrame, split_ratio: float) -> Dict[str, pd.DataFrame]:\n",
    "    \"\"\" Node for splitting the input data into training and test of features and labels \"\"\"\n",
    "    \n",
    "    features = [\"year\", \"plurality\", \"apgar_5min\", \"mother_age\", \"father_age\", \n",
    "                \"gestation_weeks\", \"ever_born\", \"mother_married\"]\n",
    "    label = \"weight_pounds\"\n",
    "    size = data.shape[0]\n",
    "    size_test = int(size * split_ratio)\n",
    "    training_data = data.iloc[size_test:, :].reset_index(drop=True)\n",
    "    test_data = data.iloc[:size_test, :].reset_index(drop=True)\n",
    "    \n",
    "    return dict(\n",
    "        train_x=training_data[features],\n",
    "        train_y=training_data[label],\n",
    "        test_x=test_data[features],\n",
    "        test_y=test_data[label]\n",
    "    )\n",
    "    \n",
    "    "
   ]
  },
  {
   "cell_type": "code",
   "execution_count": null,
   "id": "ebfaac5f-af3d-407d-a696-6b20b5ccf9d4",
   "metadata": {
    "pycharm": {
     "name": "#%%\n"
    }
   },
   "outputs": [],
   "source": [
    "result = train_test_split(data, split_ratio)"
   ]
  }
 ],
 "metadata": {
  "kernelspec": {
   "display_name": "NatalityDemo",
   "language": "python",
   "name": "python3"
  },
  "language_info": {
   "codemirror_mode": {
    "name": "ipython",
    "version": 3
   },
   "file_extension": ".py",
   "mimetype": "text/x-python",
   "name": "python",
   "nbconvert_exporter": "python",
   "pygments_lexer": "ipython3",
   "version": "3.8.13"
  }
 },
 "nbformat": 4,
 "nbformat_minor": 5
}